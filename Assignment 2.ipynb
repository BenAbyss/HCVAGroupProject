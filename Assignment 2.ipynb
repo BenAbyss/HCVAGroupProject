{
 "cells": [
  {
   "cell_type": "code",
   "execution_count": 15,
   "id": "5986a0d0",
   "metadata": {},
   "outputs": [],
   "source": [
    "import altair as alt\n",
    "from altair import datum\n",
    "import pandas as pd\n",
    "import os "
   ]
  },
  {
   "cell_type": "markdown",
   "id": "0923da0b",
   "metadata": {},
   "source": [
    "# Convert datasets into one"
   ]
  },
  {
   "cell_type": "code",
   "execution_count": 24,
   "id": "79f7f73c",
   "metadata": {
    "scrolled": true
   },
   "outputs": [],
   "source": [
    "# Pull the data\n",
    "co2 = pd.read_csv(os.getcwd() + '/Data/CO2.csv', sep=',')\n",
    "temps = pd.read_csv(os.getcwd() + '/Data/GlobalLandTemperaturesByCountry.csv', sep=',')\n",
    "hdi = pd.read_csv(os.getcwd() + '/Data/HDI.csv', sep=',')\n",
    "relevant_columns = ['country', 'year', 'co2', 'AverageTemperature', 'population', 'share_global_co2',\n",
    "                   'AverageTemperatureUncertainty', 'gdp', 'HDI']\n",
    "\n",
    "# Modify the datasets to match, and eliminates non-June months\n",
    "temps = temps.drop(temps[temps['dt'].str[6] != '6'].index)\n",
    "temps = temps.rename(columns={'dt': 'year', 'Country': 'country'})\n",
    "temps['year'] = temps['year'].apply(lambda x: int(x[0:4]))\n",
    "hdi = hdi.rename(columns={'Year': 'year', 'Entity': 'country', 'Historical Index of Human Development (Prados de la Escosura)': 'HDI'})\n",
    "\n",
    "# Unionise the DataFrames\n",
    "data = pd.merge(co2, temps, on=['year', 'country'])\n",
    "data = pd.merge(data, hdi, on=['year', 'country'])\n",
    "data = data[relevant_columns]\n",
    "data.to_csv(\"Final_data.csv\")"
   ]
  },
  {
   "cell_type": "code",
   "execution_count": null,
   "id": "0931da76",
   "metadata": {},
   "outputs": [],
   "source": []
  }
 ],
 "metadata": {
  "kernelspec": {
   "display_name": "Python 3 (ipykernel)",
   "language": "python",
   "name": "python3"
  },
  "language_info": {
   "codemirror_mode": {
    "name": "ipython",
    "version": 3
   },
   "file_extension": ".py",
   "mimetype": "text/x-python",
   "name": "python",
   "nbconvert_exporter": "python",
   "pygments_lexer": "ipython3",
   "version": "3.8.5"
  }
 },
 "nbformat": 4,
 "nbformat_minor": 5
}
