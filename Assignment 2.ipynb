{
 "cells": [
  {
   "cell_type": "code",
   "execution_count": 6,
   "id": "5986a0d0",
   "metadata": {},
   "outputs": [],
   "source": [
    "import altair as alt\n",
    "from altair import datum\n",
    "import pandas as pd\n",
    "import os "
   ]
  },
  {
   "cell_type": "markdown",
   "id": "0923da0b",
   "metadata": {},
   "source": [
    "# Convert datasets into one"
   ]
  },
  {
   "cell_type": "code",
   "execution_count": 24,
   "id": "79f7f73c",
   "metadata": {},
   "outputs": [
    {
     "name": "stdout",
     "output_type": "stream",
     "text": [
      "            country  year     co2  AverageTemperature  population  \\\n",
      "0       Afghanistan  1949   0.015              -1.374   7624058.0   \n",
      "1       Afghanistan  1949   0.015               3.089   7624058.0   \n",
      "2       Afghanistan  1949   0.015               7.789   7624058.0   \n",
      "3       Afghanistan  1949   0.015              15.152   7624058.0   \n",
      "4       Afghanistan  1949   0.015              20.991   7624058.0   \n",
      "...             ...   ...     ...                 ...         ...   \n",
      "230440     Zimbabwe  2013  11.836              19.059  13350378.0   \n",
      "230441     Zimbabwe  2013  11.836              17.613  13350378.0   \n",
      "230442     Zimbabwe  2013  11.836              17.000  13350378.0   \n",
      "230443     Zimbabwe  2013  11.836              19.759  13350378.0   \n",
      "230444     Zimbabwe  2013  11.836                 NaN  13350378.0   \n",
      "\n",
      "        share_global_co2  AverageTemperatureUncertainty  \n",
      "0                   0.00                          0.698  \n",
      "1                   0.00                          0.370  \n",
      "2                   0.00                          0.422  \n",
      "3                   0.00                          0.456  \n",
      "4                   0.00                          0.262  \n",
      "...                  ...                            ...  \n",
      "230440              0.03                          1.022  \n",
      "230441              0.03                          0.473  \n",
      "230442              0.03                          0.453  \n",
      "230443              0.03                          0.717  \n",
      "230444              0.03                            NaN  \n",
      "\n",
      "[230445 rows x 7 columns]\n"
     ]
    }
   ],
   "source": [
    "# Pull the data\n",
    "co2 = pd.read_csv(os.getcwd() + '/Data/CO2.csv', sep=',')\n",
    "temps = pd.read_csv(os.getcwd() + '/Data/GlobalLandTemperaturesByCountry.csv', sep=',')\n",
    "relevant_columns = ['country', 'year', 'co2', 'AverageTemperature', 'population', 'share_global_co2',\n",
    "                   'AverageTemperatureUncertainty']\n",
    "\n",
    "# Modify the datasets to match\n",
    "temps = temps.rename(columns={'dt': 'year', 'Country': 'country'})\n",
    "temps['year'] = temps['year'].apply(lambda x: int(x[0:4]))\n",
    "\n",
    "# Unionise the DataFrames\n",
    "data = pd.merge(co2, temps, on=['year', 'country'])\n",
    "data = data[relevant_columns]\n",
    "\n",
    "print(data)"
   ]
  },
  {
   "cell_type": "code",
   "execution_count": null,
   "id": "72ff9b41",
   "metadata": {},
   "outputs": [],
   "source": []
  }
 ],
 "metadata": {
  "kernelspec": {
   "display_name": "Python 3 (ipykernel)",
   "language": "python",
   "name": "python3"
  },
  "language_info": {
   "codemirror_mode": {
    "name": "ipython",
    "version": 3
   },
   "file_extension": ".py",
   "mimetype": "text/x-python",
   "name": "python",
   "nbconvert_exporter": "python",
   "pygments_lexer": "ipython3",
   "version": "3.8.5"
  }
 },
 "nbformat": 4,
 "nbformat_minor": 5
}
