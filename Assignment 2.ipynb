{
 "cells": [
  {
   "cell_type": "code",
   "execution_count": 1,
   "id": "5986a0d0",
   "metadata": {},
   "outputs": [],
   "source": [
    "import altair as alt\n",
    "from altair import datum\n",
    "import pandas as pd\n",
    "import os \n",
    "from vega_datasets import data"
   ]
  },
  {
   "cell_type": "markdown",
   "id": "0923da0b",
   "metadata": {},
   "source": [
    "# Convert datasets into one"
   ]
  },
  {
   "cell_type": "code",
   "execution_count": 133,
   "id": "0931da76",
   "metadata": {},
   "outputs": [],
   "source": [
    "def modifyDataset(temps, GlobalTemps, hdi):\n",
    "    yearTemps = [[0]*12, [0]*12]\n",
    "    totalTemps = [[], []]\n",
    "    GlobalTemps['year'] = pd.to_datetime(GlobalTemps.year)\n",
    "    for i in range(len(GlobalTemps)):\n",
    "        monthData = GlobalTemps.iloc[i]\n",
    "        date = GlobalTemps['year'].iloc[i]\n",
    "        yearTemps[0][monthData['year'].month-1] = monthData['LandMaxTemperature']\n",
    "        yearTemps[1][monthData['year'].month-1] = monthData['LandMinTemperature']\n",
    "        if monthData['year'].month == 12:\n",
    "            totalTemps[0].append(max(yearTemps[0]))\n",
    "            totalTemps[1].append(min(yearTemps[1]))\n",
    "    GlobalTemps = GlobalTemps.drop(GlobalTemps[GlobalTemps['year'].dt.month != 12].index)\n",
    "    GlobalTemps['year'] = GlobalTemps['year'].apply(lambda x: int(x.strftime('%Y-%m-%d')[0:4]))\n",
    "    GlobalTemps['LandMaxTemperature'] = totalTemps[0]\n",
    "    GlobalTemps['LandMinTemperature'] = totalTemps[1]\n",
    "    \n",
    "    temps = temps.drop(temps[temps['dt'].str[6] != '6'].index)\n",
    "    temps = temps.rename(columns={'dt': 'year', 'Country': 'country'})\n",
    "    temps['year'] = temps['year'].apply(lambda x: int(x[0:4]))\n",
    "    \n",
    "    hdi = hdi.rename(columns={'Year': 'year', 'Entity': 'country', 'Historical Index of Human Development (Prados de la Escosura)': 'HDI'})\n",
    "    return temps, GlobalTemps, hdi"
   ]
  },
  {
   "cell_type": "code",
   "execution_count": 134,
   "id": "79f7f73c",
   "metadata": {
    "scrolled": true
   },
   "outputs": [
    {
     "name": "stdout",
     "output_type": "stream",
     "text": [
      "             country  year      co2  AverageTemperature  population  \\\n",
      "0        Afghanistan  1950    0.084              25.083   7752117.0   \n",
      "1            Albania  1950    0.297              21.372   1263164.0   \n",
      "2            Algeria  1950    3.784              32.644   8872250.0   \n",
      "3             Angola  1950    0.187              18.854   4548021.0   \n",
      "4          Argentina  1950   29.921               8.908  17037910.0   \n",
      "...              ...   ...      ...                 ...         ...   \n",
      "2329          Sweden  1880    2.829              11.546   4561661.0   \n",
      "2330     Switzerland  1880    1.671              12.757   2824957.0   \n",
      "2331          Turkey  1880    0.139              19.559  12556805.0   \n",
      "2332  United Kingdom  1880  297.125              12.136  34733737.0   \n",
      "2333   United States  1880  198.684              18.939  51403129.0   \n",
      "\n",
      "      share_global_co2  AverageTemperatureUncertainty           gdp   HDI  \\\n",
      "0                 0.00                          0.238  9.421400e+09  0.04   \n",
      "1                 0.00                          0.376  1.958541e+09  0.23   \n",
      "2                 0.06                          0.521  1.935055e+10  0.11   \n",
      "3                 0.00                          0.737  6.905244e+09  0.04   \n",
      "4                 0.50                          0.252  1.363280e+11  0.34   \n",
      "...                ...                            ...           ...   ...   \n",
      "2329              0.33                          0.363  1.078535e+10  0.25   \n",
      "2330              0.20                          0.552  1.098513e+10  0.26   \n",
      "2331              0.02                          0.612           NaN  0.04   \n",
      "2332             34.80                          0.478  2.076341e+11  0.23   \n",
      "2333             23.27                          0.812  3.156516e+11  0.22   \n",
      "\n",
      "      LandMaxTemperature  LandMinTemperature  \n",
      "0                 19.882              -3.622  \n",
      "1                 19.882              -3.622  \n",
      "2                 19.882              -3.622  \n",
      "3                 19.882              -3.622  \n",
      "4                 19.882              -3.622  \n",
      "...                  ...                 ...  \n",
      "2329              20.037              -3.767  \n",
      "2330              20.037              -3.767  \n",
      "2331              20.037              -3.767  \n",
      "2332              20.037              -3.767  \n",
      "2333              20.037              -3.767  \n",
      "\n",
      "[2334 rows x 11 columns]\n"
     ]
    }
   ],
   "source": [
    "# Pull the data\n",
    "co2 = pd.read_csv(os.getcwd() + '/Data/CO2.csv', sep=',')\n",
    "temps = pd.read_csv(os.getcwd() + '/Data/GlobalLandTemperaturesByCountry.csv', sep=',')\n",
    "hdi = pd.read_csv(os.getcwd() + '/Data/HDI.csv', sep=',')\n",
    "GlobalTemps = pd.read_csv(os.getcwd() + '/Data/GlobalTemperatures.csv', sep=',')\n",
    "relevant_columns = ['country', 'year', 'co2', 'AverageTemperature', 'population', 'share_global_co2',\n",
    "                   'AverageTemperatureUncertainty', 'gdp', 'HDI', 'LandMaxTemperature', 'LandMinTemperature']\n",
    "\n",
    "# Modify the datasets to match, and eliminates non-June months\n",
    "temps, GlobalTemps, hdi = modifyDataset(temps, GlobalTemps, hdi);\n",
    "\n",
    "# Unionise the DataFrames\n",
    "data = pd.merge(co2, temps, on=['year', 'country'])\n",
    "data = pd.merge(data, hdi, on=['year', 'country'])\n",
    "data = pd.merge(data, GlobalTemps, on=['year'])\n",
    "data = data[relevant_columns]\n",
    "print(data)\n",
    "data.to_csv(\"Final_data.csv\")"
   ]
  },
  {
   "cell_type": "code",
   "execution_count": null,
   "id": "f5df8ec9",
   "metadata": {},
   "outputs": [],
   "source": []
  }
 ],
 "metadata": {
  "kernelspec": {
   "display_name": "Python 3 (ipykernel)",
   "language": "python",
   "name": "python3"
  },
  "language_info": {
   "codemirror_mode": {
    "name": "ipython",
    "version": 3
   },
   "file_extension": ".py",
   "mimetype": "text/x-python",
   "name": "python",
   "nbconvert_exporter": "python",
   "pygments_lexer": "ipython3",
   "version": "3.8.5"
  }
 },
 "nbformat": 4,
 "nbformat_minor": 5
}
