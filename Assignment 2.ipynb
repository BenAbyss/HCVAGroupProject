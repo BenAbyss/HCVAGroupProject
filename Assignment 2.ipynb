{
 "cells": [
  {
   "cell_type": "code",
   "execution_count": 15,
   "id": "5986a0d0",
   "metadata": {},
   "outputs": [],
   "source": [
    "import altair as alt\n",
    "from altair import datum\n",
    "import pandas as pd\n",
    "import os "
   ]
  },
  {
   "cell_type": "markdown",
   "id": "0923da0b",
   "metadata": {},
   "source": [
    "# Convert datasets into one"
   ]
  },
  {
   "cell_type": "code",
   "execution_count": 62,
   "id": "79f7f73c",
   "metadata": {
    "scrolled": true
   },
   "outputs": [
    {
     "name": "stdout",
     "output_type": "stream",
     "text": [
      "                dt  AverageTemperature  AverageTemperatureUncertainty  \\\n",
      "7       1744-06-01              11.609                          1.577   \n",
      "19      1745-06-01                 NaN                            NaN   \n",
      "31      1746-06-01                 NaN                            NaN   \n",
      "43      1747-06-01                 NaN                            NaN   \n",
      "55      1748-06-01                 NaN                            NaN   \n",
      "...            ...                 ...                            ...   \n",
      "577410  2009-06-01              17.770                          0.520   \n",
      "577422  2010-06-01              16.377                          0.476   \n",
      "577434  2011-06-01              16.939                          0.599   \n",
      "577446  2012-06-01              16.631                          0.277   \n",
      "577458  2013-06-01              17.613                          0.473   \n",
      "\n",
      "         Country  \n",
      "7          Åland  \n",
      "19         Åland  \n",
      "31         Åland  \n",
      "43         Åland  \n",
      "55         Åland  \n",
      "...          ...  \n",
      "577410  Zimbabwe  \n",
      "577422  Zimbabwe  \n",
      "577434  Zimbabwe  \n",
      "577446  Zimbabwe  \n",
      "577458  Zimbabwe  \n",
      "\n",
      "[48174 rows x 4 columns]\n",
      "           country  year     co2  AverageTemperature  population  \\\n",
      "0      Afghanistan  1949   0.015              23.142   7624058.0   \n",
      "1      Afghanistan  1950   0.084              25.083   7752117.0   \n",
      "2      Afghanistan  1951   0.092              22.893   7840151.0   \n",
      "3      Afghanistan  1952   0.092              25.257   7935996.0   \n",
      "4      Afghanistan  1953   0.106              24.941   8039684.0   \n",
      "...            ...   ...     ...                 ...         ...   \n",
      "19247     Zimbabwe  2009   5.476              17.770  12526964.0   \n",
      "19248     Zimbabwe  2010   7.878              16.377  12697728.0   \n",
      "19249     Zimbabwe  2011   9.744              16.939  12894323.0   \n",
      "19250     Zimbabwe  2012   7.883              16.631  13115149.0   \n",
      "19251     Zimbabwe  2013  11.836              17.613  13350378.0   \n",
      "\n",
      "       share_global_co2  AverageTemperatureUncertainty           gdp  \n",
      "0                  0.00                          0.535           NaN  \n",
      "1                  0.00                          0.238  9.421400e+09  \n",
      "2                  0.00                          0.478  9.692280e+09  \n",
      "3                  0.00                          0.332  1.001732e+10  \n",
      "4                  0.00                          0.315  1.063052e+10  \n",
      "...                 ...                            ...           ...  \n",
      "19247              0.02                          0.520  1.627576e+10  \n",
      "19248              0.02                          0.476  1.791838e+10  \n",
      "19249              0.03                          0.599  1.955407e+10  \n",
      "19250              0.02                          0.277  2.090997e+10  \n",
      "19251              0.03                          0.473  2.112350e+10  \n",
      "\n",
      "[19252 rows x 8 columns]\n"
     ]
    }
   ],
   "source": [
    "# Pull the data\n",
    "co2 = pd.read_csv(os.getcwd() + '/Data/CO2.csv', sep=',')\n",
    "temps = pd.read_csv(os.getcwd() + '/Data/GlobalLandTemperaturesByCountry.csv', sep=',')\n",
    "relevant_columns = ['country', 'year', 'co2', 'AverageTemperature', 'population', 'share_global_co2',\n",
    "                   'AverageTemperatureUncertainty', 'gdp']\n",
    "\n",
    "# Modify the datasets to match, and eliminates non-June months\n",
    "temps = temps.drop(temps[temps['dt'].str[6] != '6'].index)\n",
    "temps = temps.rename(columns={'dt': 'year', 'Country': 'country'})\n",
    "temps['year'] = temps['year'].apply(lambda x: int(x[0:4]))\n",
    "\n",
    "# Unionise the DataFrames\n",
    "data = pd.merge(co2, temps, on=['year', 'country'])\n",
    "data = data[relevant_columns]"
   ]
  },
  {
   "cell_type": "code",
   "execution_count": null,
   "id": "0931da76",
   "metadata": {},
   "outputs": [],
   "source": []
  }
 ],
 "metadata": {
  "kernelspec": {
   "display_name": "Python 3 (ipykernel)",
   "language": "python",
   "name": "python3"
  },
  "language_info": {
   "codemirror_mode": {
    "name": "ipython",
    "version": 3
   },
   "file_extension": ".py",
   "mimetype": "text/x-python",
   "name": "python",
   "nbconvert_exporter": "python",
   "pygments_lexer": "ipython3",
   "version": "3.10.0"
  }
 },
 "nbformat": 4,
 "nbformat_minor": 5
}
